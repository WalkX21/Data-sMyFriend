{
 "cells": [
  {
   "cell_type": "code",
   "execution_count": 2,
   "metadata": {},
   "outputs": [],
   "source": [
    "import pandas as pd\n"
   ]
  },
  {
   "cell_type": "code",
   "execution_count": 3,
   "metadata": {},
   "outputs": [],
   "source": [
    "data = {\n",
    "'Name': ['rayan', 'tom', 'khoya'],\n",
    "'Age': [16, 30, 48],\n",
    "'City': ['casablanca', 'paris', 'marseille']\n",
    "}"
   ]
  },
  {
   "cell_type": "code",
   "execution_count": 4,
   "metadata": {},
   "outputs": [],
   "source": [
    "df = pd.DataFrame(data)"
   ]
  },
  {
   "cell_type": "code",
   "execution_count": 5,
   "metadata": {},
   "outputs": [
    {
     "name": "stdout",
     "output_type": "stream",
     "text": [
      "    Name  Age        City\n",
      "0  rayan   16  casablanca\n",
      "1    tom   30       paris\n",
      "2  khoya   48   marseille\n"
     ]
    }
   ],
   "source": [
    "print(df)"
   ]
  },
  {
   "cell_type": "code",
   "execution_count": 6,
   "metadata": {},
   "outputs": [],
   "source": [
    "data1= {'A': [0,2,3], 'B':[9,5,6], 'C': [7,8,1]}\n",
    "data2= {'A': [4,21,13], 'B':[6,9,2], 'C': [9,1,6]}\n",
    "\n",
    "df_1 = pd.DataFrame(data1)\n",
    "df_2 = pd.DataFrame(data2)\n",
    "\n",
    "pnl = pd.concat({'item1': df_1 ,'Item2': df_2}, axis=1)"
   ]
  },
  {
   "cell_type": "code",
   "execution_count": 7,
   "metadata": {},
   "outputs": [
    {
     "name": "stdout",
     "output_type": "stream",
     "text": [
      "  item1       Item2      \n",
      "      A  B  C     A  B  C\n",
      "0     0  9  7     4  6  9\n",
      "1     2  5  8    21  9  1\n",
      "2     3  6  1    13  2  6\n"
     ]
    }
   ],
   "source": [
    "print(pnl)"
   ]
  },
  {
   "cell_type": "code",
   "execution_count": 8,
   "metadata": {},
   "outputs": [
    {
     "name": "stdout",
     "output_type": "stream",
     "text": [
      "   A  B  C\n",
      "0  0  9  7\n",
      "1  2  5  8\n",
      "2  3  6  1\n"
     ]
    }
   ],
   "source": [
    "print(df_1)"
   ]
  }
 ],
 "metadata": {
  "kernelspec": {
   "display_name": "Python 3",
   "language": "python",
   "name": "python3"
  },
  "language_info": {
   "codemirror_mode": {
    "name": "ipython",
    "version": 3
   },
   "file_extension": ".py",
   "mimetype": "text/x-python",
   "name": "python",
   "nbconvert_exporter": "python",
   "pygments_lexer": "ipython3",
   "version": "3.10.13"
  }
 },
 "nbformat": 4,
 "nbformat_minor": 2
}
