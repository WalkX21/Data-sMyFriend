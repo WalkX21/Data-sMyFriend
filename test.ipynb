{
 "cells": [
  {
   "cell_type": "code",
   "execution_count": 1,
   "metadata": {},
   "outputs": [],
   "source": [
    "import pandas as pd\n"
   ]
  },
  {
   "cell_type": "code",
   "execution_count": 3,
   "metadata": {},
   "outputs": [],
   "source": [
    "data = {\n",
    "'Name': ['rayan', 'tom', 'khoya'],\n",
    "'Age': [16, 30, 48],\n",
    "'City': ['casablanca', 'paris', 'marseille']\n",
    "}"
   ]
  },
  {
   "cell_type": "code",
   "execution_count": 4,
   "metadata": {},
   "outputs": [],
   "source": [
    "df = pd.DataFrame(data)"
   ]
  },
  {
   "cell_type": "code",
   "execution_count": 5,
   "metadata": {},
   "outputs": [
    {
     "name": "stdout",
     "output_type": "stream",
     "text": [
      "    Name  Age        City\n",
      "0  rayan   16  casablanca\n",
      "1    tom   30       paris\n",
      "2  khoya   48   marseille\n"
     ]
    }
   ],
   "source": [
    "print(df)"
   ]
  },
  {
   "cell_type": "code",
   "execution_count": 6,
   "metadata": {},
   "outputs": [],
   "source": [
    "data1= {'A': [0,2,3], 'B':[9,5,6], 'C': [7,8,1]}\n",
    "data2= {'A': [4,21,13], 'B':[6,9,2], 'C': [9,1,6]}\n",
    "\n",
    "df_1 = pd.DataFrame(data1)\n",
    "df_2 = pd.DataFrame(data2)\n",
    "\n",
    "pnl = pd.concat({'item1': df_1 ,'Item2': df_2}, axis=1)"
   ]
  },
  {
   "cell_type": "markdown",
   "metadata": {},
   "source": []
  },
  {
   "cell_type": "code",
   "execution_count": 7,
   "metadata": {},
   "outputs": [
    {
     "name": "stdout",
     "output_type": "stream",
     "text": [
      "  item1       Item2      \n",
      "      A  B  C     A  B  C\n",
      "0     0  9  7     4  6  9\n",
      "1     2  5  8    21  9  1\n",
      "2     3  6  1    13  2  6\n"
     ]
    }
   ],
   "source": [
    "print(pnl)"
   ]
  },
  {
   "cell_type": "code",
   "execution_count": 8,
   "metadata": {},
   "outputs": [
    {
     "name": "stdout",
     "output_type": "stream",
     "text": [
      "   A  B  C\n",
      "0  0  9  7\n",
      "1  2  5  8\n",
      "2  3  6  1\n"
     ]
    }
   ],
   "source": [
    "print(df_1)"
   ]
  },
  {
   "cell_type": "code",
   "execution_count": 2,
   "metadata": {},
   "outputs": [],
   "source": [
    "s1 = pd.Series([1,2,3,4,5])\n",
    "s2 = pd.Series([3,2,1,5,4])"
   ]
  },
  {
   "cell_type": "code",
   "execution_count": 3,
   "metadata": {},
   "outputs": [],
   "source": [
    "r1 = s1 == s2\n",
    "r2 = s1> s2\n",
    "r3 = s1 <= s2\n",
    "r4 = s1 != s2"
   ]
  },
  {
   "cell_type": "code",
   "execution_count": 4,
   "metadata": {},
   "outputs": [
    {
     "name": "stdout",
     "output_type": "stream",
     "text": [
      "0    False\n",
      "1     True\n",
      "2    False\n",
      "3    False\n",
      "4    False\n",
      "dtype: bool\n",
      "0    False\n",
      "1    False\n",
      "2     True\n",
      "3    False\n",
      "4     True\n",
      "dtype: bool\n",
      "0     True\n",
      "1     True\n",
      "2    False\n",
      "3     True\n",
      "4    False\n",
      "dtype: bool\n",
      "0     True\n",
      "1    False\n",
      "2     True\n",
      "3     True\n",
      "4     True\n",
      "dtype: bool\n"
     ]
    }
   ],
   "source": [
    "print(r1)\n",
    "print(r2)\n",
    "print(r3)\n",
    "print(r4)"
   ]
  },
  {
   "cell_type": "code",
   "execution_count": 8,
   "metadata": {},
   "outputs": [
    {
     "name": "stdout",
     "output_type": "stream",
     "text": [
      "0     True\n",
      "1     True\n",
      "2    False\n",
      "3     True\n",
      "4    False\n",
      "dtype: bool\n",
      "0    1\n",
      "1    2\n",
      "3    4\n",
      "dtype: int64\n"
     ]
    }
   ],
   "source": [
    "print(r3)\n",
    "print(s1[r3])"
   ]
  },
  {
   "cell_type": "code",
   "execution_count": 9,
   "metadata": {},
   "outputs": [
    {
     "name": "stdout",
     "output_type": "stream",
     "text": [
      "4.4 6 2 22 5\n"
     ]
    }
   ],
   "source": [
    "s = pd.Series([5,2,5,4,6])\n",
    "r1 = s.mean()\n",
    "r2 = s.max()\n",
    "r3 = s.min()\n",
    "r4 = s.sum()\n",
    "r5= s.count()\n",
    "print(r1, r2, r3, r4, r5)"
   ]
  },
  {
   "cell_type": "code",
   "execution_count": 10,
   "metadata": {},
   "outputs": [
    {
     "name": "stdout",
     "output_type": "stream",
     "text": [
      "4.5 5 4\n"
     ]
    }
   ],
   "source": [
    "s = pd.Series([1,2,3,4,5])\n",
    "\n",
    "id = s > 3\n",
    "id_series = s[id]\n",
    "\n",
    "r1 = id_series.mean()\n",
    "r2 = id_series.max()\n",
    "r3= id_series.min()\n",
    "\n",
    "print(r1,r2,r3)"
   ]
  },
  {
   "cell_type": "code",
   "execution_count": 29,
   "metadata": {},
   "outputs": [
    {
     "name": "stdout",
     "output_type": "stream",
     "text": [
      "index Index(['a', 'b', 'c', 'd'], dtype='object')\n",
      "Size 4\n",
      "Size float64\n",
      "Size None\n",
      "Size False\n"
     ]
    }
   ],
   "source": [
    "data = {'apples': 3, 'oranges':5, 'pears':2, 'grapes':10}\n",
    "series = pd.Series(data, index=['a','b','c','d'])\n",
    "\n",
    "print(\"index\",series.index)\n",
    "print(\"Size\",series.size)\n",
    "print(\"Size\",series.dtype)\n",
    "print(\"Size\",series.name)\n",
    "print(\"Size\",series.is_unique)"
   ]
  },
  {
   "cell_type": "code",
   "execution_count": 19,
   "metadata": {},
   "outputs": [
    {
     "name": "stdout",
     "output_type": "stream",
     "text": [
      "a   NaN\n",
      "b   NaN\n",
      "c   NaN\n",
      "d   NaN\n",
      "dtype: float64\n"
     ]
    }
   ],
   "source": [
    "print(series)"
   ]
  },
  {
   "cell_type": "code",
   "execution_count": 33,
   "metadata": {},
   "outputs": [
    {
     "name": "stdout",
     "output_type": "stream",
     "text": [
      "True\n"
     ]
    }
   ],
   "source": [
    "df=pd.Series(data)\n",
    "print(df.is_unique)"
   ]
  },
  {
   "cell_type": "code",
   "execution_count": 22,
   "metadata": {},
   "outputs": [
    {
     "data": {
      "text/plain": [
       "apples      3\n",
       "oranges     5\n",
       "pears       2\n",
       "grapes     10\n",
       "dtype: int64"
      ]
     },
     "execution_count": 22,
     "metadata": {},
     "output_type": "execute_result"
    }
   ],
   "source": [
    "df"
   ]
  },
  {
   "cell_type": "code",
   "execution_count": 26,
   "metadata": {},
   "outputs": [
    {
     "data": {
      "text/plain": [
       "count     4.000000\n",
       "mean      5.000000\n",
       "std       3.559026\n",
       "min       2.000000\n",
       "25%       2.750000\n",
       "50%       4.000000\n",
       "75%       6.250000\n",
       "max      10.000000\n",
       "dtype: float64"
      ]
     },
     "execution_count": 26,
     "metadata": {},
     "output_type": "execute_result"
    }
   ],
   "source": [
    "df.describe()"
   ]
  },
  {
   "cell_type": "code",
   "execution_count": 12,
   "metadata": {},
   "outputs": [
    {
     "name": "stdout",
     "output_type": "stream",
     "text": [
      "0    10\n",
      "1    20\n",
      "2    30\n",
      "dtype: int64\n",
      "7     80\n",
      "8     90\n",
      "9    100\n",
      "dtype: int64\n"
     ]
    }
   ],
   "source": [
    "data = [10,20,30,40,50,60,70,80,90,100]\n",
    "\n",
    "my_series = pd.Series(data)\n",
    "print(my_series.head(3))\n",
    "print(my_series.tail(3))"
   ]
  },
  {
   "cell_type": "code",
   "execution_count": 42,
   "metadata": {},
   "outputs": [
    {
     "name": "stdout",
     "output_type": "stream",
     "text": [
      "count     10.000000\n",
      "mean      55.000000\n",
      "std       30.276504\n",
      "min       10.000000\n",
      "25%       32.500000\n",
      "50%       55.000000\n",
      "75%       77.500000\n",
      "max      100.000000\n",
      "dtype: float64\n",
      "<class 'pandas.core.series.Series'>\n",
      "RangeIndex: 10 entries, 0 to 9\n",
      "Series name: None\n",
      "Non-Null Count  Dtype\n",
      "--------------  -----\n",
      "10 non-null     int64\n",
      "dtypes: int64(1)\n",
      "memory usage: 208.0 bytes\n",
      "None\n",
      "55.0\n"
     ]
    }
   ],
   "source": [
    "print(my_series.describe())\n",
    "print(my_series.info())\n",
    "print(my_series.mean())"
   ]
  },
  {
   "cell_type": "code",
   "execution_count": 44,
   "metadata": {},
   "outputs": [
    {
     "name": "stdout",
     "output_type": "stream",
     "text": [
      "[10, 20, 30, 40, 50, 60, 70, 80, 90, 100]\n",
      "[ 10  20  30  40  50  60  70  80  90 100]\n"
     ]
    }
   ],
   "source": [
    "print(data)\n",
    "print(my_series.unique())\n",
    "\n",
    "#group by (next step)"
   ]
  },
  {
   "cell_type": "code",
   "execution_count": 11,
   "metadata": {},
   "outputs": [
    {
     "name": "stdout",
     "output_type": "stream",
     "text": [
      "grouped by remainder when divided by 3 :\n",
      " 0    180\n",
      "1    220\n",
      "2    150\n",
      "dtype: int64\n"
     ]
    }
   ],
   "source": [
    "grouped = my_series.groupby(my_series % 3)\n",
    "print(\"grouped by remainder when divided by 3 :\\n\", grouped.sum())\n"
   ]
  },
  {
   "cell_type": "code",
   "execution_count": 10,
   "metadata": {},
   "outputs": [
    {
     "name": "stdout",
     "output_type": "stream",
     "text": [
      "<pandas.core.groupby.generic.SeriesGroupBy object at 0x7ab9232a7190>\n"
     ]
    }
   ],
   "source": [
    "print(grouped)"
   ]
  },
  {
   "cell_type": "code",
   "execution_count": 8,
   "metadata": {},
   "outputs": [
    {
     "data": {
      "text/plain": [
       "1"
      ]
     },
     "execution_count": 8,
     "metadata": {},
     "output_type": "execute_result"
    }
   ],
   "source": [
    "10 % 3"
   ]
  },
  {
   "cell_type": "code",
   "execution_count": 9,
   "metadata": {},
   "outputs": [
    {
     "name": "stdout",
     "output_type": "stream",
     "text": [
      "0    1\n",
      "1    2\n",
      "2    0\n",
      "3    1\n",
      "4    2\n",
      "5    0\n",
      "6    1\n",
      "7    2\n",
      "8    0\n",
      "9    1\n",
      "dtype: int64\n"
     ]
    }
   ],
   "source": [
    "print(my_series % 3) # %3 revient à dire ==> modulo 3"
   ]
  },
  {
   "cell_type": "code",
   "execution_count": 14,
   "metadata": {},
   "outputs": [
    {
     "name": "stdout",
     "output_type": "stream",
     "text": [
      "applied function : \n",
      " 0     20\n",
      "1     30\n",
      "2     40\n",
      "3     50\n",
      "4     60\n",
      "5     70\n",
      "6     80\n",
      "7     90\n",
      "8    100\n",
      "9    110\n",
      "dtype: int64\n"
     ]
    }
   ],
   "source": [
    "def add_ten(x):\n",
    "    return x + 10\n",
    "\n",
    "print(\"applied function : \\n\", my_series.apply(add_ten))"
   ]
  },
  {
   "cell_type": "code",
   "execution_count": 15,
   "metadata": {},
   "outputs": [
    {
     "data": {
      "text/plain": [
       "0     20\n",
       "1     30\n",
       "2     40\n",
       "3     50\n",
       "4     60\n",
       "5     70\n",
       "6     80\n",
       "7     90\n",
       "8    100\n",
       "9    110\n",
       "dtype: int64"
      ]
     },
     "execution_count": 15,
     "metadata": {},
     "output_type": "execute_result"
    }
   ],
   "source": [
    "my_series + 10"
   ]
  },
  {
   "cell_type": "code",
   "execution_count": 18,
   "metadata": {},
   "outputs": [
    {
     "name": "stdout",
     "output_type": "stream",
     "text": [
      "0    1.0\n",
      "1    2.0\n",
      "2    NaN\n",
      "3    4.0\n",
      "4    NaN\n",
      "5    6.0\n",
      "dtype: float64\n",
      "filled with pandas: \n",
      " 0    1.0\n",
      "1    2.0\n",
      "2    0.0\n",
      "3    4.0\n",
      "4    0.0\n",
      "5    6.0\n",
      "dtype: float64\n"
     ]
    }
   ],
   "source": [
    "my_series_with_na = pd.Series([1,2,None,4,None,6])\n",
    "print(my_series_with_na)\n",
    "print(\"filled with pandas: \\n\", my_series_with_na.fillna(0))"
   ]
  },
  {
   "cell_type": "code",
   "execution_count": 20,
   "metadata": {},
   "outputs": [
    {
     "data": {
      "text/plain": [
       "0    11.0\n",
       "1    12.0\n",
       "2    10.0\n",
       "3    14.0\n",
       "4    10.0\n",
       "5    16.0\n",
       "dtype: float64"
      ]
     },
     "execution_count": 20,
     "metadata": {},
     "output_type": "execute_result"
    }
   ],
   "source": [
    "my_series_with_na.fillna(0)+10"
   ]
  },
  {
   "cell_type": "code",
   "execution_count": 21,
   "metadata": {},
   "outputs": [
    {
     "name": "stdout",
     "output_type": "stream",
     "text": [
      "Dropped values:\n",
      " 0     10\n",
      "1     20\n",
      "2     30\n",
      "4     50\n",
      "5     60\n",
      "7     80\n",
      "8     90\n",
      "9    100\n",
      "dtype: int64\n"
     ]
    }
   ],
   "source": [
    "print(\"Dropped values:\\n\", my_series.drop([3,6]))"
   ]
  },
  {
   "cell_type": "code",
   "execution_count": 24,
   "metadata": {},
   "outputs": [
    {
     "name": "stdout",
     "output_type": "stream",
     "text": [
      "Merged series : \n",
      " 0      10\n",
      "1      20\n",
      "2      30\n",
      "3      40\n",
      "4      50\n",
      "5      60\n",
      "6      70\n",
      "7      80\n",
      "8      90\n",
      "9     100\n",
      "10      1\n",
      "11      2\n",
      "12      3\n",
      "13      4\n",
      "14      5\n",
      "15      6\n",
      "16      7\n",
      "17      8\n",
      "18      9\n",
      "19     10\n",
      "dtype: int64\n"
     ]
    }
   ],
   "source": [
    "my_series2 = pd.Series([1,2,3,4,5,6,7,8,9,10])\n",
    "\n",
    "merged_series = pd.concat([my_series,my_series2], ignore_index=True,axis=0)\n",
    "\n",
    "print(\"Merged series : \\n\", merged_series)"
   ]
  },
  {
   "cell_type": "code",
   "execution_count": null,
   "metadata": {},
   "outputs": [],
   "source": []
  },
  {
   "cell_type": "code",
   "execution_count": 26,
   "metadata": {},
   "outputs": [
    {
     "name": "stdout",
     "output_type": "stream",
     "text": [
      "      Name  Age Gender\n",
      "0    Alice   25      F\n",
      "1    Jafri   30      M\n",
      "2  Charlie   35      M\n"
     ]
    }
   ],
   "source": [
    "data = {'Name': ['Alice','Jafri','Charlie'], 'Age': [25,30,35]}\n",
    "\n",
    "df = pd.DataFrame(data)\n",
    "df['Gender']= ['F','M','M']\n",
    "\n",
    "print(df)"
   ]
  },
  {
   "cell_type": "code",
   "execution_count": 27,
   "metadata": {},
   "outputs": [
    {
     "name": "stdout",
     "output_type": "stream",
     "text": [
      "\n",
      "Joined DataFrame:\n",
      "     Name  Age_x  Age_y\n",
      "0   Alia     25    NaN\n",
      "1    Bob     30    NaN\n",
      "2  Jafri     35   30.0\n",
      "3  Jafri     35   31.0\n",
      "4  David     40    NaN\n",
      "5    Eve     45   49.0\n"
     ]
    }
   ],
   "source": [
    "import pandas as pd\n",
    "\n",
    "data1 = {\n",
    "    'Name': ['Alia', 'Bob', 'Jafri', 'David', 'Eve'],\n",
    "    'Age': [25, 30, 35, 40, 45],\n",
    "}\n",
    "\n",
    "df1 = pd.DataFrame(data1)\n",
    "\n",
    "data2 = {\n",
    "    'Name': ['Jafri', 'Faisal', 'Jafri', 'Ali', 'Eve'],\n",
    "    'Age': [30, 34, 31, 44, 49],\n",
    "}\n",
    "\n",
    "df2 = pd.DataFrame(data2)\n",
    "\n",
    "joined_df = df1.merge(df2, on='Name', how='left')\n",
    "\n",
    "print(\"\\nJoined DataFrame:\\n\", joined_df)\n"
   ]
  },
  {
   "cell_type": "code",
   "execution_count": 28,
   "metadata": {},
   "outputs": [
    {
     "data": {
      "text/html": [
       "<div>\n",
       "<style scoped>\n",
       "    .dataframe tbody tr th:only-of-type {\n",
       "        vertical-align: middle;\n",
       "    }\n",
       "\n",
       "    .dataframe tbody tr th {\n",
       "        vertical-align: top;\n",
       "    }\n",
       "\n",
       "    .dataframe thead th {\n",
       "        text-align: right;\n",
       "    }\n",
       "</style>\n",
       "<table border=\"1\" class=\"dataframe\">\n",
       "  <thead>\n",
       "    <tr style=\"text-align: right;\">\n",
       "      <th></th>\n",
       "      <th>Name</th>\n",
       "      <th>Age_x</th>\n",
       "      <th>Age_y</th>\n",
       "    </tr>\n",
       "  </thead>\n",
       "  <tbody>\n",
       "    <tr>\n",
       "      <th>0</th>\n",
       "      <td>Alia</td>\n",
       "      <td>25</td>\n",
       "      <td>0.0</td>\n",
       "    </tr>\n",
       "    <tr>\n",
       "      <th>1</th>\n",
       "      <td>Bob</td>\n",
       "      <td>30</td>\n",
       "      <td>0.0</td>\n",
       "    </tr>\n",
       "    <tr>\n",
       "      <th>2</th>\n",
       "      <td>Jafri</td>\n",
       "      <td>35</td>\n",
       "      <td>30.0</td>\n",
       "    </tr>\n",
       "    <tr>\n",
       "      <th>3</th>\n",
       "      <td>Jafri</td>\n",
       "      <td>35</td>\n",
       "      <td>31.0</td>\n",
       "    </tr>\n",
       "    <tr>\n",
       "      <th>4</th>\n",
       "      <td>David</td>\n",
       "      <td>40</td>\n",
       "      <td>0.0</td>\n",
       "    </tr>\n",
       "    <tr>\n",
       "      <th>5</th>\n",
       "      <td>Eve</td>\n",
       "      <td>45</td>\n",
       "      <td>49.0</td>\n",
       "    </tr>\n",
       "  </tbody>\n",
       "</table>\n",
       "</div>"
      ],
      "text/plain": [
       "    Name  Age_x  Age_y\n",
       "0   Alia     25    0.0\n",
       "1    Bob     30    0.0\n",
       "2  Jafri     35   30.0\n",
       "3  Jafri     35   31.0\n",
       "4  David     40    0.0\n",
       "5    Eve     45   49.0"
      ]
     },
     "execution_count": 28,
     "metadata": {},
     "output_type": "execute_result"
    }
   ],
   "source": [
    "joined_df.fillna(0)"
   ]
  },
  {
   "cell_type": "code",
   "execution_count": 29,
   "metadata": {},
   "outputs": [
    {
     "data": {
      "text/plain": [
       "Index(['Name', 'Age_x', 'Age_y'], dtype='object')"
      ]
     },
     "execution_count": 29,
     "metadata": {},
     "output_type": "execute_result"
    }
   ],
   "source": [
    "joined_df.columns"
   ]
  },
  {
   "cell_type": "code",
   "execution_count": 30,
   "metadata": {},
   "outputs": [
    {
     "data": {
      "text/plain": [
       "array([['Alia', 25, nan],\n",
       "       ['Bob', 30, nan],\n",
       "       ['Jafri', 35, 30.0],\n",
       "       ['Jafri', 35, 31.0],\n",
       "       ['David', 40, nan],\n",
       "       ['Eve', 45, 49.0]], dtype=object)"
      ]
     },
     "execution_count": 30,
     "metadata": {},
     "output_type": "execute_result"
    }
   ],
   "source": [
    "joined_df.values"
   ]
  },
  {
   "cell_type": "code",
   "execution_count": 31,
   "metadata": {},
   "outputs": [
    {
     "data": {
      "text/plain": [
       "(6, 3)"
      ]
     },
     "execution_count": 31,
     "metadata": {},
     "output_type": "execute_result"
    }
   ],
   "source": [
    "joined_df.shape"
   ]
  },
  {
   "cell_type": "code",
   "execution_count": 32,
   "metadata": {},
   "outputs": [
    {
     "data": {
      "text/plain": [
       "18"
      ]
     },
     "execution_count": 32,
     "metadata": {},
     "output_type": "execute_result"
    }
   ],
   "source": [
    "joined_df.size"
   ]
  },
  {
   "cell_type": "code",
   "execution_count": 36,
   "metadata": {},
   "outputs": [
    {
     "data": {
      "text/plain": [
       "Name      object\n",
       "Age_x      int64\n",
       "Age_y    float64\n",
       "dtype: object"
      ]
     },
     "execution_count": 36,
     "metadata": {},
     "output_type": "execute_result"
    }
   ],
   "source": [
    "joined_df.dtypes"
   ]
  },
  {
   "cell_type": "code",
   "execution_count": 50,
   "metadata": {},
   "outputs": [],
   "source": [
    "import pandas as pd\n",
    "\n",
    "# Create a sample DataFrame\n",
    "data = {\n",
    "    'Name': ['Faisal', 'Emma', 'Peter', 'Jafri'],\n",
    "    'Age': [25, 28, 21, 32],\n",
    "    'City': ['New York', 'London', 'Paris', 'Paharpur']\n",
    "}\n",
    "\n",
    "df = pd.DataFrame(data)\n"
   ]
  },
  {
   "cell_type": "code",
   "execution_count": null,
   "metadata": {},
   "outputs": [],
   "source": []
  },
  {
   "cell_type": "code",
   "execution_count": 51,
   "metadata": {},
   "outputs": [
    {
     "name": "stdout",
     "output_type": "stream",
     "text": [
      "Head:      Name  Age      City\n",
      "0  Faisal   25  New York\n",
      "1    Emma   28    London\n",
      "2   Peter   21     Paris\n",
      "3   Jafri   32  Paharpur\n",
      "Tails:      Name  Age      City\n",
      "0  Faisal   25  New York\n",
      "1    Emma   28    London\n",
      "2   Peter   21     Paris\n",
      "3   Jafri   32  Paharpur\n"
     ]
    }
   ],
   "source": [
    "print(\"Head:\", df.head())\n",
    "\n",
    "print('Tails:', df.tail())"
   ]
  },
  {
   "cell_type": "code",
   "execution_count": 52,
   "metadata": {},
   "outputs": [
    {
     "name": "stdout",
     "output_type": "stream",
     "text": [
      "Describe              Age\n",
      "count   4.000000\n",
      "mean   26.500000\n",
      "std     4.654747\n",
      "min    21.000000\n",
      "25%    24.000000\n",
      "50%    26.500000\n",
      "75%    29.000000\n",
      "max    32.000000\n"
     ]
    }
   ],
   "source": [
    "print(\"Describe\", df.describe())"
   ]
  },
  {
   "cell_type": "code",
   "execution_count": 55,
   "metadata": {},
   "outputs": [
    {
     "name": "stdout",
     "output_type": "stream",
     "text": [
      "\n",
      " Grouped Dataframe: \n",
      "           Name  Age\n",
      "City               \n",
      "London       1    1\n",
      "New York     1    1\n",
      "Paharpur     1    1\n",
      "Paris        1    1\n"
     ]
    }
   ],
   "source": [
    "grouped_df = df.groupby('City').count()\n",
    "\n",
    "print(\"\\n Grouped Dataframe: \\n\", grouped_df)"
   ]
  },
  {
   "cell_type": "code",
   "execution_count": 54,
   "metadata": {},
   "outputs": [
    {
     "name": "stdout",
     "output_type": "stream",
     "text": [
      "<class 'pandas.core.frame.DataFrame'>\n",
      "RangeIndex: 4 entries, 0 to 3\n",
      "Data columns (total 3 columns):\n",
      " #   Column  Non-Null Count  Dtype \n",
      "---  ------  --------------  ----- \n",
      " 0   Name    4 non-null      object\n",
      " 1   Age     4 non-null      int64 \n",
      " 2   City    4 non-null      object\n",
      "dtypes: int64(1), object(2)\n",
      "memory usage: 224.0+ bytes\n",
      "Info: None\n"
     ]
    }
   ],
   "source": [
    "print(\"Info:\", df.info())"
   ]
  },
  {
   "cell_type": "code",
   "execution_count": 57,
   "metadata": {},
   "outputs": [
    {
     "name": "stdout",
     "output_type": "stream",
     "text": [
      "           Age\n",
      "City          \n",
      "London    28.0\n",
      "New York  25.0\n",
      "Paharpur  32.0\n",
      "Paris     21.0\n"
     ]
    }
   ],
   "source": [
    "pivot_table_df = df.pivot_table(index='City', values='Age', aggfunc='mean')\n",
    "\n",
    "print(pivot_table_df)\n"
   ]
  },
  {
   "cell_type": "code",
   "execution_count": 58,
   "metadata": {},
   "outputs": [
    {
     "name": "stdout",
     "output_type": "stream",
     "text": [
      "Sorted DataFrame:\n",
      "      Name  Age      City\n",
      "2   Peter   21     Paris\n",
      "0  Faisal   25  New York\n",
      "1    Emma   28    London\n",
      "3   Jafri   32  Paharpur\n"
     ]
    }
   ],
   "source": [
    "sorted_df = df.sort_values(by='Age')\n",
    "\n",
    "print(\"Sorted DataFrame:\\n\", sorted_df)\n"
   ]
  },
  {
   "cell_type": "code",
   "execution_count": 59,
   "metadata": {},
   "outputs": [
    {
     "name": "stdout",
     "output_type": "stream",
     "text": [
      "0    30\n",
      "1    33\n",
      "2    26\n",
      "3    37\n",
      "Name: Age, dtype: int64\n"
     ]
    }
   ],
   "source": [
    "def add_five(x):\n",
    "    return x + 5\n",
    "\n",
    "df_applied = df['Age'].apply(add_five)\n",
    "\n",
    "print(df_applied)"
   ]
  }
 ],
 "metadata": {
  "kernelspec": {
   "display_name": "Python 3",
   "language": "python",
   "name": "python3"
  },
  "language_info": {
   "codemirror_mode": {
    "name": "ipython",
    "version": 3
   },
   "file_extension": ".py",
   "mimetype": "text/x-python",
   "name": "python",
   "nbconvert_exporter": "python",
   "pygments_lexer": "ipython3",
   "version": "3.10.13"
  }
 },
 "nbformat": 4,
 "nbformat_minor": 2
}
